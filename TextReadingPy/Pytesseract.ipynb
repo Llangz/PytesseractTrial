{
 "cells": [
  {
   "cell_type": "code",
   "execution_count": 13,
   "metadata": {},
   "outputs": [],
   "source": [
    "import cv2\n",
    "import pytesseract\n",
    "pytesseract.pytesseract.tesseract_cmd = r'C:\\\\Program Files\\\\Tesseract-OCR\\\\tesseract.exe'"
   ]
  },
  {
   "cell_type": "code",
   "execution_count": 14,
   "metadata": {},
   "outputs": [
    {
     "name": "stdout",
     "output_type": "stream",
     "text": [
      "((( BREAKING NEWS )))\n"
     ]
    }
   ],
   "source": [
    "img = cv2.imread('Breaking.png')\n",
    "text = pytesseract.image_to_string(img)\n",
    "print(text)"
   ]
  },
  {
   "cell_type": "code",
   "execution_count": 15,
   "metadata": {},
   "outputs": [
    {
     "name": "stdout",
     "output_type": "stream",
     "text": [
      "IS BITCOIN\n",
      "GOING TO\n",
      "$20.000\n",
      "BY CHRISTMAS?\n"
     ]
    }
   ],
   "source": [
    "image = cv2.imread('MoreImage.jpeg')\n",
    "text = pytesseract.image_to_string(image)\n",
    "print(text)"
   ]
  },
  {
   "cell_type": "code",
   "execution_count": 16,
   "metadata": {},
   "outputs": [
    {
     "name": "stdout",
     "output_type": "stream",
     "text": [
      "Text Message\n",
      "Today 15:46\n",
      "\n",
      "Its Emma. | tried to call you but\n",
      "signal bad. | been taken to\n",
      "hospital after having a fall this\n",
      "morning. If possible can you do\n",
      "me a quick favour and text me x\n"
     ]
    }
   ],
   "source": [
    "img = cv2.imread('text.jpg')\n",
    "text = pytesseract.image_to_string(img)\n",
    "print(text)"
   ]
  },
  {
   "cell_type": "code",
   "execution_count": 17,
   "metadata": {},
   "outputs": [
    {
     "name": "stdout",
     "output_type": "stream",
     "text": [
      "(eye 6) ais 17:32 @ 78% a>\n",
      "\n",
      "   \n",
      "\n",
      "« eee (1) h\n",
      "\n",
      "Hi, I've found this phone,\n",
      "you're the first on the\n",
      "\n",
      "contact list. Could tell your\n",
      "friend it's been found?\n",
      "\n",
      "LWinich friend?)\n",
      "\n",
      " \n",
      "\n",
      "Which friend?\n",
      "\n",
      "The. one whose name is at\n",
      "the top of your screen.\n",
      "Haha oh yeah lol\n",
      "\n",
      "So can you tell them I've\n",
      "found it?\n",
      "\n",
      "Yeah will do\n",
      "\n",
      "Hi it's Adam. Someone's\n",
      "found your phone.\n",
      "\n",
      "OC Crcssase E>\n"
     ]
    }
   ],
   "source": [
    "img = cv2.imread('anothertext.jpg')\n",
    "text = pytesseract.image_to_string(img)\n",
    "print(text)"
   ]
  },
  {
   "cell_type": "code",
   "execution_count": 19,
   "metadata": {},
   "outputs": [
    {
     "name": "stdout",
     "output_type": "stream",
     "text": [
      "USO ee\n",
      "\n",
      " \n",
      "\n",
      "OPEN BEFORE NOVEMBER 6, 2018\n",
      "\n",
      "Your neighbors have\n",
      "\n",
      "top voting scores.\n",
      "P Join them and vote\n",
      "4 on November 6th.\n",
      "\n",
      "SEE YOUR VOTING SCORE ON BACK \"\n",
      "\n",
      " \n",
      "\n",
      "SECURE DOCUMENT\n"
     ]
    }
   ],
   "source": [
    "img = cv2.imread('notice.jpg')\n",
    "text = pytesseract.image_to_string(img)\n",
    "print(text)"
   ]
  },
  {
   "cell_type": "code",
   "execution_count": null,
   "metadata": {},
   "outputs": [],
   "source": []
  }
 ],
 "metadata": {
  "kernelspec": {
   "display_name": "Python 3",
   "language": "python",
   "name": "python3"
  },
  "language_info": {
   "codemirror_mode": {
    "name": "ipython",
    "version": 3
   },
   "file_extension": ".py",
   "mimetype": "text/x-python",
   "name": "python",
   "nbconvert_exporter": "python",
   "pygments_lexer": "ipython3",
   "version": "3.6.9"
  }
 },
 "nbformat": 4,
 "nbformat_minor": 2
}
